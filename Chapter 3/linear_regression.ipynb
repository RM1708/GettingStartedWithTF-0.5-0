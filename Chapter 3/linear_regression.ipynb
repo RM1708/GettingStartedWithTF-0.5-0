{
 "cells": [
  {
   "cell_type": "code",
   "execution_count": null,
   "metadata": {},
   "outputs": [],
   "source": [
    "import numpy as np"
   ]
  },
  {
   "cell_type": "markdown",
   "metadata": {},
   "source": [
    "# Setup Simulated Linear Data"
   ]
  },
  {
   "cell_type": "code",
   "execution_count": null,
   "metadata": {},
   "outputs": [],
   "source": [
    "a = 0.22\n",
    "b = 0.78"
   ]
  },
  {
   "cell_type": "markdown",
   "metadata": {},
   "source": [
    "y and x have a linear relationship given by y = ax + b. However, the y that can be observed is corrupted by additive noise that is normally distributed with 0 mean and sigma of 0.1.\n",
    "Construct the data set"
   ]
  },
  {
   "cell_type": "code",
   "execution_count": null,
   "metadata": {},
   "outputs": [],
   "source": [
    "for i in range(number_of_points):\n",
    "    x = np.random.normal(0.0,0.5)\n",
    "    y = a*x + b +np.random.normal(0.0,0.1)\n",
    "    x_point.append([x])\n",
    "    y_point.append([y])"
   ]
  },
  {
   "cell_type": "markdown",
   "metadata": {},
   "source": [
    "**Display the Data**"
   ]
  },
  {
   "cell_type": "code",
   "execution_count": null,
   "metadata": {},
   "outputs": [],
   "source": [
    "import matplotlib.pyplot as plt\n",
    "\n",
    "plt.plot(x_point,y_point, 'o', label='Input Data')\n",
    "plt.legend()\n",
    "plt.show()"
   ]
  },
  {
   "cell_type": "markdown",
   "metadata": {},
   "source": [
    "# Create the two parameters<br> \n",
    "The parameters will characterize the linear relation y = Ax + B. These are created as tf variables. A is intialized to a value chosen from a set, uniformly distributed between -1.0 and 1.0. B is initialized to 0. Both A & B are 1-D with shape= 1"
   ]
  },
  {
   "cell_type": "code",
   "execution_count": null,
   "metadata": {},
   "outputs": [],
   "source": [
    "import tensorflow as tf"
   ]
  },
  {
   "cell_type": "code",
   "execution_count": null,
   "metadata": {},
   "outputs": [],
   "source": [
    "A = tf.Variable(tf.random_uniform([1], -1.0, 1.0))\n",
    "B = tf.Variable(tf.zeros([1]))"
   ]
  },
  {
   "cell_type": "markdown",
   "metadata": {},
   "source": [
    "# The Linear Regression Model"
   ]
  },
  {
   "cell_type": "markdown",
   "metadata": {},
   "source": [
    "The estimated value of y for the given input x, based on the parameters A & B"
   ]
  },
  {
   "cell_type": "code",
   "execution_count": null,
   "metadata": {},
   "outputs": [],
   "source": [
    "y = A * x_point + B"
   ]
  },
  {
   "cell_type": "markdown",
   "metadata": {},
   "source": [
    "# Initialize Global Variables"
   ]
  },
  {
   "cell_type": "code",
   "execution_count": null,
   "metadata": {},
   "outputs": [],
   "source": [
    "init_globals = tf.global_variables_initializer()"
   ]
  },
  {
   "cell_type": "markdown",
   "metadata": {},
   "source": [
    "# Set up the Model Trainer\n",
    "The model trainer is the mechansm for adapting the parameters A & B.<br>\n",
    "The adaption is done __to__ minimize a cost function, defined below.<br>\n",
    "The adaption is done __by__ an optimizer object, defined below.<br>\n"
   ]
  },
  {
   "cell_type": "markdown",
   "metadata": {},
   "source": [
    "**Cost Function**<br>The cost function is the mean of squared error in the estimate (the diff between y as estimated and y as in the data set), taken over all the samples. The \"reduce\" in \"reduce_mean\" is not material in this case. See https://www.tensorflow.org/api_docs/python/tf/reduce_mean"
   ]
  },
  {
   "cell_type": "code",
   "execution_count": null,
   "metadata": {},
   "outputs": [],
   "source": [
    "cost_function = tf.reduce_mean(tf.square(y - y_point))"
   ]
  },
  {
   "cell_type": "markdown",
   "metadata": {},
   "source": [
    "**The Optimizer**<br>The Gradient Descent method is chosen for finding the optimum values of A & B.\n",
    "See https://www.tensorflow.org/api_docs/python/tf/train/GradientDescentOptimizer. The GradientDescentOptimizer is a class.The object created is optimizer_obj. It is created with a learning rate of 0.5."
   ]
  },
  {
   "cell_type": "code",
   "execution_count": null,
   "metadata": {},
   "outputs": [],
   "source": [
    "learning_rate = tf.constant(0.5)\n",
    "optimizer_obj = tf.train.GradientDescentOptimizer(learning_rate)"
   ]
  },
  {
   "cell_type": "markdown",
   "metadata": {},
   "source": [
    "The minimize method of the optimizer_obj is used to compute the values of A & B that minimize the cost_function"
   ]
  },
  {
   "cell_type": "code",
   "execution_count": null,
   "metadata": {},
   "outputs": [],
   "source": [
    "model_trainer = optimizer_obj.minimize(cost_function)"
   ]
  },
  {
   "cell_type": "markdown",
   "metadata": {},
   "source": [
    "# Execute \n",
    "Now run the model trainer. <br>This will train the model by adapting the model parameters to minimize the cost function\n",
    "The values of A & B should converge to the values of a & b, ie 0.22 & 0.78"
   ]
  },
  {
   "cell_type": "code",
   "execution_count": null,
   "metadata": {},
   "outputs": [],
   "source": [
    "NoOfSteps = 41\n",
    "with tf.Session() as session:\n",
    "        session.run(init_globals)\n",
    "        print(\"Intial Values\\n.\\tA: %7.4f; B: %7.4f\" % (A.eval(), B.eval()))\n",
    "        print(\"\\tA.shape: {}; B.shape: {}\\n\".format(A.shape, B.shape))\n",
    "        for step in range(0,NoOfSteps):\n",
    "                session.run(model_trainer)\n",
    "                print(\"A: %7.4f; B: %7.4f\" % (A.eval(), B.eval()))\n",
    "\n",
    "                if (step % 5) == 0:\n",
    "                        print(\"Cost Fn: %6.4f\"  % (cost_function.eval()))\n",
    "                        plt.plot(x_point, y_point,\n",
    "                                 'o',label='step = {}'.format(step))\n",
    "                        plt.plot(x_point,\n",
    "                                session.run(A) * x_point + session.run(B))\n",
    "                        plt.legend()\n",
    "                        plt.show()"
   ]
  }
 ],
 "metadata": {
  "kernelspec": {
   "display_name": "Python 3",
   "language": "python",
   "name": "python3"
  },
  "language_info": {
   "codemirror_mode": {
    "name": "ipython",
    "version": 3
   },
   "file_extension": ".py",
   "mimetype": "text/x-python",
   "name": "python",
   "nbconvert_exporter": "python",
   "pygments_lexer": "ipython3",
   "version": "3.6.5"
  }
 },
 "nbformat": 4,
 "nbformat_minor": 2
}
