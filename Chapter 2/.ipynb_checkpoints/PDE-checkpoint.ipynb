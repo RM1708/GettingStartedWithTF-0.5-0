{
 "cells": [
  {
   "cell_type": "code",
   "execution_count": null,
   "metadata": {},
   "outputs": [],
   "source": [
    "#Import libraries for simulation\n",
    "import tensorflow as tf\n",
    "import numpy as np\n",
    "from sympy import *\n",
    "\n",
    "import matplotlib.pyplot as plt\n"
   ]
  },
  {
   "cell_type": "markdown",
   "metadata": {},
   "source": [
    "# Error in the text\n",
    "The next import was put by me. It provides clear_output() function. "
   ]
  },
  {
   "cell_type": "code",
   "execution_count": null,
   "metadata": {},
   "outputs": [],
   "source": [
    "import IPython.display as display"
   ]
  },
  {
   "cell_type": "code",
   "execution_count": null,
   "metadata": {},
   "outputs": [],
   "source": [
    "def make_kernel(a):\n",
    "    \"\"\"Transform a 2D array into a convolution kernel\"\"\"\n",
    "\n",
    "    \"\"\"Only one set of print output indicates\n",
    "    this is called only once\"\"\"\n",
    "    \n",
    "    a = np.asarray(a)\n",
    "    \"\"\"\n",
    "    print(\"a.ndim: {}; a.shape: {}\".format( a.ndim, a.shape))\n",
    "    print(\"a: \", a)\n",
    "    \"\"\"\n",
    "\n",
    "    a = a.reshape(list(a.shape) + [1,1])\n",
    "\n",
    "    \"\"\"print(\"a.ndim: {}; a.shape: {}\".format( a.ndim, a.shape))\n",
    "    print(\"a.ndim\", a.ndim)\n",
    "    print(\"a: \", a)\"\"\"\n",
    "    \n",
    "    \"\"\"NOTE: Returned as tf.constant\"\"\"\n",
    "    return tf.constant(a, dtype=1)"
   ]
  },
  {
   "cell_type": "markdown",
   "metadata": {},
   "source": [
    "# Question"
   ]
  },
  {
   "cell_type": "markdown",
   "metadata": {},
   "source": [
    "The above function appears to be called only once. Uncommenting the print commands shows only one set of prints.\n",
    "In the function laplace() below, the call is made to make_kernel(). And laplace() is called every iteration\n",
    "laplace_k is a tf.constant. Is that WHY the call is not made?"
   ]
  },
  {
   "cell_type": "code",
   "execution_count": null,
   "metadata": {},
   "outputs": [],
   "source": [
    "def simple_conv(x, k):\n",
    "  \"\"\"A simplified 2D convolution operation\"\"\"\n",
    "  x = tf.expand_dims(tf.expand_dims(x, 0), -1)\n",
    "  y = tf.nn.depthwise_conv2d(x, k, [1, 1, 1, 1], padding='SAME')\n",
    "  return y[0, :, :, 0]\n",
    "\n",
    "def laplace(x):\n",
    "    \"\"\"Compute the 2D laplacian of an array\"\"\"\n",
    "    laplace_k = make_kernel([[0.5, 1.0, 0.5],\n",
    "                           [1.0, -6., 1.0],\n",
    "                           [0.5, 1.0, 0.5]])\n",
    "    \"\"\"\n",
    "    The following print takes place only once.\n",
    "    Q. This function is called only once?\"\"\"\n",
    "    #print(laplace_k)\n",
    "    result = simple_conv(x, laplace_k)\n",
    "    print (\"Result: {}\".format(result))\n",
    "    return result"
   ]
  },
  {
   "cell_type": "markdown",
   "metadata": {},
   "source": [
    "The size of the pond is N pixels by N pixels"
   ]
  },
  {
   "cell_type": "code",
   "execution_count": null,
   "metadata": {},
   "outputs": [],
   "source": [
    "\n",
    "N = 500\n"
   ]
  },
  {
   "cell_type": "code",
   "execution_count": null,
   "metadata": {},
   "outputs": [],
   "source": [
    "# Set everything to zero\n",
    "u_init = np.zeros([N, N], dtype=np.float32)\n",
    "ut_init = np.zeros([N, N], dtype=np.float32)\n"
   ]
  },
  {
   "cell_type": "markdown",
   "metadata": {},
   "source": [
    "Raindrops barely show-up in the image plot. Instead of many raindrops, drop just one \"brick\" (meteorite?) The brick is dropped in the center of the pond"
   ]
  },
  {
   "cell_type": "code",
   "execution_count": null,
   "metadata": {},
   "outputs": [],
   "source": [
    "# Some rain drops hit a pond at random points\n",
    "#for n in range(100 * 2):\n",
    "#  a,b = np.random.randint(0, N, 2)\n",
    "#  u_init[a,b] = np.random.uniform(low=0, high=10)\n",
    "\n",
    "a = N/2; b = N/2\n",
    "SideOfBrick = 20\n",
    "Delta_PlusMinus = int(SideOfBrick/2)\n"
   ]
  },
  {
   "cell_type": "markdown",
   "metadata": {},
   "source": [
    "Compute the 2D array of pixels that will initially be impactedby the \"brick\"."
   ]
  },
  {
   "cell_type": "code",
   "execution_count": null,
   "metadata": {},
   "outputs": [],
   "source": [
    "for i in range(-Delta_PlusMinus, Delta_PlusMinus, 1):\n",
    "    for j in range(-Delta_PlusMinus, Delta_PlusMinus, 1):\n",
    "        x = int(a + i); y = int(b + j)\n",
    "        u_init[x, y] = 100"
   ]
  },
  {
   "cell_type": "markdown",
   "metadata": {},
   "source": [
    " Display the impact zone"
   ]
  },
  {
   "cell_type": "code",
   "execution_count": null,
   "metadata": {},
   "outputs": [],
   "source": [
    "plt.imshow(u_init)\n",
    "plt.show()\n"
   ]
  },
  {
   "cell_type": "code",
   "execution_count": null,
   "metadata": {},
   "outputs": [],
   "source": [
    "# Create variables for simulation state\n",
    "U  = tf.Variable(u_init)\n",
    "Ut = tf.Variable(ut_init)\n",
    "# Parameters:\n",
    "# eps -- time resolution\n",
    "# damping -- wave damping\n",
    "eps = tf.placeholder(tf.float32, shape=())\n",
    "damping = tf.placeholder(tf.float32, shape=())\n",
    "\n"
   ]
  },
  {
   "cell_type": "code",
   "execution_count": null,
   "metadata": {},
   "outputs": [],
   "source": [
    "# Discretized PDE update rules\n",
    "U_ = U + eps * Ut\n",
    "Ut_ = Ut + eps * (laplace(U) - damping * Ut)\n",
    "\n",
    "iter_count = tf.Variable(0)\n",
    "iter_count_updt = iter_count.assign_add(1)\n",
    "\n",
    "# Operation to update the state\n",
    "step = tf.group(\n",
    "    U.assign(U_),\n",
    "    Ut.assign(Ut_),\n",
    "    iter_count_updt)\n",
    "\n"
   ]
  },
  {
   "cell_type": "code",
   "execution_count": null,
   "metadata": {},
   "outputs": [],
   "source": [
    "sess = tf.InteractiveSession()\n",
    "# Initialize state to initial conditions\n",
    "tf.global_variables_initializer().run()"
   ]
  },
  {
   "cell_type": "markdown",
   "metadata": {},
   "source": [
    "# Setup to Capture Execution Graph"
   ]
  },
  {
   "cell_type": "markdown",
   "metadata": {},
   "source": [
    "Added these two lines. This is to get a file that can be read by tensorboard.<br>\n",
    "When the session is run, the execution summary is captured. The summary is written to a file. The file can be then be read by giving the following command at the command line, in the current directory.<br>\n",
    "> tensorboard --logdir=./tensorflowlogs/.\n",
    "\n",
    "The file created in the presnt case is \n",
    "> -rw-rw-r-- 1 rm rm 8020420 May 29 10:47 events.out.tfevents.1527569402.ubuntu\n",
    "\n",
    "__TBC__\n",
    "1. What does tf.group appear as in the graph"
   ]
  },
  {
   "cell_type": "code",
   "execution_count": null,
   "metadata": {},
   "outputs": [],
   "source": [
    "merged = tf.summary.merge_all()\n",
    "writer = tf.summary.FileWriter(\"./tensorflowlogs\",sess.graph)"
   ]
  },
  {
   "cell_type": "markdown",
   "metadata": {},
   "source": [
    "# Execute the Graph"
   ]
  },
  {
   "cell_type": "code",
   "execution_count": null,
   "metadata": {},
   "outputs": [],
   "source": [
    "# Run 1000 steps of PDE\n",
    "for i in range(1000):\n",
    "  # Step simulation\n",
    "    step.run({eps: 0.03, damping: 0.04})\n",
    "        # Visualize every 5 steps\n",
    "    if i % 10 == 0:\n",
    "        display.clear_output()\n",
    "        print(\"iter_count:{}\".format(iter_count.eval()))\n",
    "        plt.imshow(U.eval())\n",
    "        plt.show()"
   ]
  },
  {
   "cell_type": "code",
   "execution_count": null,
   "metadata": {},
   "outputs": [],
   "source": [
    "sess.close()\n"
   ]
  }
 ],
 "metadata": {
  "kernelspec": {
   "display_name": "Python 3",
   "language": "python",
   "name": "python3"
  },
  "language_info": {
   "codemirror_mode": {
    "name": "ipython",
    "version": 3
   },
   "file_extension": ".py",
   "mimetype": "text/x-python",
   "name": "python",
   "nbconvert_exporter": "python",
   "pygments_lexer": "ipython3",
   "version": "3.6.5"
  }
 },
 "nbformat": 4,
 "nbformat_minor": 2
}
